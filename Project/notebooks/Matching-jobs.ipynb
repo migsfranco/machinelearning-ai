{
 "cells": [
  {
   "cell_type": "code",
   "execution_count": null,
   "metadata": {
    "vscode": {
     "languageId": "plaintext"
    }
   },
   "outputs": [],
   "source": [
    "# Definir 5 categorías sobre trabajos: AI Engineer, Machine Learning, Front - end Developer, Backend Developer Full-stack Developer\n",
    "# USA jobs candidates\n",
    "# Database USA jobs-> API \n",
    "# Requirements of every job profile - Enterprises\n",
    "\n",
    "\n",
    "- Estructura del CV /Resume que debe tener el candidato\n",
    "1. Candidate's Basic Information\n",
    "2. Education\n",
    "3. Job Experience\n",
    "4. Certifications\n",
    "5. Skills \n",
    "6. References\n"
   ]
  }
 ],
 "metadata": {
  "language_info": {
   "name": "python"
  }
 },
 "nbformat": 4,
 "nbformat_minor": 2
}
